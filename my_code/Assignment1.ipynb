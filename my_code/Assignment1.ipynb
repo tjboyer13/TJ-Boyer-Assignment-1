{
 "cells": [
  {
   "cell_type": "markdown",
   "id": "76f6ecb0-cc54-4b7e-9ace-852fbb7b5ad9",
   "metadata": {},
   "source": [
    "TJ Boyer Assignment Step1 :Importing Data"
   ]
  },
  {
   "cell_type": "code",
   "execution_count": 1,
   "id": "7df6d84e-97e8-42d5-a7aa-32eb1ee3806f",
   "metadata": {},
   "outputs": [],
   "source": [
    "import pandas as pd"
   ]
  },
  {
   "cell_type": "code",
   "execution_count": 49,
   "id": "5b0c0ce1-e6ff-45fd-8195-ccb72013ac58",
   "metadata": {},
   "outputs": [],
   "source": [
    "file = (r\"C:\\Users\\tjboyer\\Documents/DataCampAssign/Food Environment Atlas.xlsx\")\n",
    "spread_sheet = pd.ExcelFile(file)"
   ]
  },
  {
   "cell_type": "code",
   "execution_count": 50,
   "id": "831ddcba-8b57-488d-a989-4a231a46288a",
   "metadata": {},
   "outputs": [
    {
     "name": "stdout",
     "output_type": "stream",
     "text": [
      "['Read_Me', ' Variable List', 'Supplemental Data-County', 'Supplemental Data - State', 'ACCESS', 'STORES', 'RESTAURANTS', 'ASSISTANCE', 'INSECURITY', 'TAXES', 'LOCAL', 'HEALTH', 'SOCIOECONOMIC']\n"
     ]
    }
   ],
   "source": [
    "print(spread_sheet.sheet_names)"
   ]
  },
  {
   "cell_type": "code",
   "execution_count": 51,
   "id": "51ad14ab-17c7-4dde-95b2-7912c17c2d67",
   "metadata": {},
   "outputs": [
    {
     "name": "stdout",
     "output_type": "stream",
     "text": [
      "<class 'pandas.core.frame.DataFrame'>\n",
      "<class 'pandas.io.excel._base.ExcelFile'>\n"
     ]
    }
   ],
   "source": [
    "access_dataset = spread_sheet.parse(4)\n",
    "access_dataset = spread_sheet.parse('ACCESS')\n",
    "print(type(access_dataset))\n",
    "print(type(spread_sheet))"
   ]
  },
  {
   "cell_type": "code",
   "execution_count": 52,
   "id": "0c19db24-d99c-46f5-9e56-fd24d695193e",
   "metadata": {},
   "outputs": [
    {
     "name": "stdout",
     "output_type": "stream",
     "text": [
      "   FIPS State   County  LACCESS_POP10  LACCESS_POP15  PCH_LACCESS_POP_10_15  \\\n",
      "0  1001    AL  Autauga   18428.439685   17496.693038              -5.056026   \n",
      "1  1003    AL  Baldwin   35210.814078   30561.264430             -13.204891   \n",
      "2  1005    AL  Barbour    5722.305602    6069.523628               6.067799   \n",
      "3  1007    AL     Bibb    1044.867327     969.378841              -7.224696   \n",
      "4  1009    AL   Blount    1548.175559    3724.428242             140.568857   \n",
      "\n",
      "   PCT_LACCESS_POP10  PCT_LACCESS_POP15  LACCESS_LOWI10  LACCESS_LOWI15  ...  \\\n",
      "0          33.769657          32.062255     5344.427472     6543.676824  ...   \n",
      "1          19.318473          16.767489     9952.144027     9886.831137  ...   \n",
      "2          20.840972          22.105560     3135.676086     2948.790251  ...   \n",
      "3           4.559753           4.230324      491.449066      596.162829  ...   \n",
      "4           2.700840           6.497380      609.027708     1650.959482  ...   \n",
      "\n",
      "   LACCESS_HISP15  PCT_LACCESS_HISP15  LACCESS_NHASIAN15  \\\n",
      "0      471.136164            0.863345          86.767975   \n",
      "1     1377.874834            0.755973         212.946378   \n",
      "2      509.377525            1.855183          17.096410   \n",
      "3        8.596762            0.037516           1.994318   \n",
      "4      497.489891            0.867886           8.428994   \n",
      "\n",
      "   PCT_LACCESS_NHASIAN15  LACCESS_NHNA15  PCT_LACCESS_NHNA15  LACCESS_NHPI15  \\\n",
      "0               0.159000       61.169869            0.112092        8.817961   \n",
      "1               0.116833      181.649648            0.099662       14.819634   \n",
      "2               0.062266       39.960527            0.145539        8.082376   \n",
      "3               0.008703        2.513097            0.010967        0.000000   \n",
      "4               0.014705       28.938242            0.050484        1.062851   \n",
      "\n",
      "   PCT_LACCESS_NHPI15  LACCESS_MULTIR15  PCT_LACCESS_MULTIR15  \n",
      "0            0.016159        482.848633              0.884808  \n",
      "1            0.008131       1127.696098              0.618712  \n",
      "2            0.029436        462.382655              1.684025  \n",
      "3            0.000000          5.259244              0.022951  \n",
      "4            0.001854        202.914187              0.353990  \n",
      "\n",
      "[5 rows x 44 columns]\n"
     ]
    }
   ],
   "source": [
    "print(access_dataset.head())"
   ]
  },
  {
   "cell_type": "code",
   "execution_count": 56,
   "id": "dff96e44-6a11-4231-9ff8-c4155f4ce53f",
   "metadata": {},
   "outputs": [
    {
     "name": "stdout",
     "output_type": "stream",
     "text": [
      "138292\n",
      "(3143, 44)\n"
     ]
    }
   ],
   "source": [
    "print(access_dataset.size)\n",
    "print(access_dataset.shape)"
   ]
  },
  {
   "cell_type": "code",
   "execution_count": 57,
   "id": "da823cfb-628b-470f-ba2e-c71265010e35",
   "metadata": {},
   "outputs": [],
   "source": [
    "access_dataset.to_csv('access_dataset.csv')"
   ]
  },
  {
   "cell_type": "code",
   "execution_count": null,
   "id": "ff481090-099b-4542-8671-09ec2a4b9a4e",
   "metadata": {},
   "outputs": [],
   "source": []
  }
 ],
 "metadata": {
  "kernelspec": {
   "display_name": "Python 3 (ipykernel)",
   "language": "python",
   "name": "python3"
  },
  "language_info": {
   "codemirror_mode": {
    "name": "ipython",
    "version": 3
   },
   "file_extension": ".py",
   "mimetype": "text/x-python",
   "name": "python",
   "nbconvert_exporter": "python",
   "pygments_lexer": "ipython3",
   "version": "3.12.0"
  }
 },
 "nbformat": 4,
 "nbformat_minor": 5
}
